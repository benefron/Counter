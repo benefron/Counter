{
 "cells": [
  {
   "cell_type": "code",
   "execution_count": 1,
   "metadata": {},
   "outputs": [],
   "source": [
    "import PySimpleGUI as sg"
   ]
  },
  {
   "cell_type": "code",
   "execution_count": 2,
   "metadata": {},
   "outputs": [],
   "source": [
    "import serial\n",
    "import time\n",
    "import math\n",
    "import serial.tools.list_ports"
   ]
  },
  {
   "cell_type": "code",
   "execution_count": 7,
   "metadata": {},
   "outputs": [],
   "source": []
  },
  {
   "cell_type": "code",
   "execution_count": 8,
   "metadata": {},
   "outputs": [
    {
     "data": {
      "text/plain": [
       "'ttyACM0'"
      ]
     },
     "execution_count": 8,
     "metadata": {},
     "output_type": "execute_result"
    }
   ],
   "source": []
  },
  {
   "cell_type": "code",
   "execution_count": 34,
   "metadata": {},
   "outputs": [],
   "source": [
    "import PySimpleGUI as sg\n",
    "\n",
    "\n",
    "sg.theme('Dark Green 7')\n",
    "\n",
    "#ports = serial.tools.list_ports.comports()\n",
    "#portList = [port.name for port in ports]\n",
    "#layoutPop = [  [sg.Text('Please choose the Arduino COM port', size=(20, 2), justification='center',font=('Ariel',15))],\n",
    " #           [sg.T(' ' * 5),sg.InputCombo(portList,key= '-PORT-',enable_events=True,size=(10, 4),font=('Ariel',15))]]\n",
    "\n",
    "#windowPop = sg.Window('COM port',layoutPop,location=(800,500))\n",
    "\n",
    "#while True:                  # the event loop\n",
    "#    event, values = windowPop.read()\n",
    "#    if event == sg.WIN_CLOSED:\n",
    "#        break\n",
    "#    if values['-PORT-']:    # if something is highlighted in the list\n",
    "#        port_name = values['-PORT-']\n",
    "#        break\n",
    "#windowPop.close()\n",
    "\n",
    "port_name = 'COM7'\n",
    "# linux version\n",
    "# ser = serial.Serial(f\"/dev/{port_name}\",'9600',timeout=1)\n",
    "# Windows version\n",
    "ser = serial.Serial(port_name,'9600',timeout=1)\n",
    "#sg.theme('Dark Green 7')\n",
    "\n",
    "\n",
    "layout = [  \n",
    "            [sg.Text(size=(10, 1), font=('Helvetica', 20), justification='center', key='-OUTPUTXL-',border_width=5,relief='groove'),\n",
    "             sg.Button('zeroXL'), sg.T(' ' *5),sg.Text(size=(10, 1), font=('Helvetica', 20), justification='center', \n",
    "                                                      key='-OUTPUTYL-',border_width=5,relief='groove'),sg.Button('zeroYL')],\n",
    "            \n",
    "            [sg.Text(size=(10, 1), font=('Helvetica', 20), justification='center', key='-OUTPUTZL-',border_width=5,relief='groove'),sg.Button('zeroZL'), sg.T(' ' *5),\n",
    "             sg.Text(size=(10, 1), font=('Helvetica', 20), justification='center', key='-OUTPUTDL-',border_width=5,relief='groove'),sg.Button('zeroDepthL')\n",
    "            ],\n",
    "          [sg.Button('Zero All L')],[sg.Button('Zero All R')],[sg.T(' ')],\n",
    "    [sg.Text(size=(10, 1), font=('Helvetica', 20), justification='center', key='-OUTPUTXR-',border_width=5,relief='groove'),\n",
    "             sg.Button('zeroXR'), sg.T(' ' *5),sg.Text(size=(10, 1), font=('Helvetica', 20), justification='center', \n",
    "                                                      key='-OUTPUTYR-',border_width=5,relief='groove'),sg.Button('zeroYR')],[sg.Text(size=(10, 1), font=('Helvetica', 20), justification='center', key='-OUTPUTZR-',border_width=5,relief='groove'),sg.Button('zeroZR'), sg.T(' ' *5),\n",
    "             sg.Text(size=(10, 1), font=('Helvetica', 20), justification='center', key='-OUTPUTDR-',border_width=5,relief='groove'),sg.Button('zeroDepthR')\n",
    "            ]\n",
    "            ,[sg.Button('Zero All R')],[sg.T(' ')],[sg.Quit()]]\n",
    "\n",
    "window = sg.Window('Monitor', layout,location=(600,500))\n",
    "\n",
    "\n",
    "counterXL=0\n",
    "counterYL = 0\n",
    "counterZL = 0\n",
    "counterDL = 0\n",
    "counterXR=0\n",
    "counterYR = 0\n",
    "counterZR = 0\n",
    "counterDR = 0\n",
    "\n",
    "\n",
    "while True:                                 # Event Loop\n",
    "    event, values = window.read(timeout=1) # Please try and use as high of a timeout value as you can\n",
    "    window['-OUTPUTXL-'].update('{:04d}.{:02d}'.format((counterXL)//200,abs((counterXL)//2)%100))\n",
    "    window['-OUTPUTYL-'].update('{:04d}.{:02d}'.format((counterYL)//200,abs((counterYL)//2)%100))\n",
    "    window['-OUTPUTZL-'].update('{:04d}.{:02d}'.format((counterZL)//200,abs((counterZL)//2)%100))\n",
    "    window['-OUTPUTDL-'].update('{:04d}.{:02d}'.format((counterDL)//200,abs((counterDL)//2)%100))\n",
    "    window['-OUTPUTXR-'].update('{:04d}.{:02d}'.format((counterXR)//200,abs((counterXR)//2)%100))\n",
    "    window['-OUTPUTYR-'].update('{:04d}.{:02d}'.format((counterYR)//200,abs((counterYR)//2)%100))\n",
    "    window['-OUTPUTZR-'].update('{:04d}.{:02d}'.format((counterZR)//200,abs((counterZR)//2)%100))\n",
    "    window['-OUTPUTDR-'].update('{:04d}.{:02d}'.format((counterDR)//200,abs((counterDR)//2)%100))\n",
    "    line = ser.readline()\n",
    "\n",
    "    if event in (sg.WIN_CLOSED, 'Quit'):             # if user closed the window using X or clicked Quit button\n",
    "        \n",
    "        break\n",
    "    elif event == 'Zero All L':\n",
    "        counterXL=0\n",
    "        counterYL = 0\n",
    "        counterZL = 0\n",
    "        counterDL = 0\n",
    "    elif event == 'Zero All R':\n",
    "        counterXR=0\n",
    "        counterYR = 0\n",
    "        counterZR = 0\n",
    "        counterDR = 0\n",
    "        \n",
    "        #window['-OUTPUTXL-'].update('{:04d}.{:02d}'.format((counterXL),(counterXL)))\n",
    "        #window['-OUTPUTYL-'].update('{:04d}.{:02d}'.format((counterYL),(counterYL)))\n",
    "        #window['-OUTPUTZL-'].update('{:04d}.{:02d}'.format((counterZL),(counterZL)))\n",
    "        #window['-OUTPUTDL-'].update('{:04d}.{:02d}'.format((counterDL),(counterDL)))\n",
    "    elif event == 'zeroXL':\n",
    "        counterXL=0\n",
    "        #window['-OUTPUTXL-'].update('{:04d}.{:02d}'.format((counterXL),(counterXL)))\n",
    "    elif event == 'zeroYL':\n",
    "        counterYL=0\n",
    "        #window['-OUTPUTYL-'].update('{:04d}.{:02d}'.format((counterYL),(counterYL)))\n",
    "    elif event == 'zeroZL':\n",
    "        counterZL=0\n",
    "        #window['-OUTPUTZL-'].update('{:04d}.{:02d}'.format((counterZL),(counterZL)))\n",
    "    elif event == 'zeroDepthL':\n",
    "        counterDL=0\n",
    "    elif event == 'zeroXR':\n",
    "        counterXR=0\n",
    "        #window['-OUTPUTXL-'].update('{:04d}.{:02d}'.format((counterXL),(counterXL)))\n",
    "    elif event == 'zeroYR':\n",
    "        counterYR=0\n",
    "        #window['-OUTPUTYL-'].update('{:04d}.{:02d}'.format((counterYL),(counterYL)))\n",
    "    elif event == 'zeroZR':\n",
    "        counterZR=0\n",
    "        #window['-OUTPUTZL-'].update('{:04d}.{:02d}'.format((counterZL),(counterZL)))\n",
    "    elif event == 'zeroDepthR':\n",
    "        counterDR=0\n",
    "        #window['-OUTPUTDL-'].update('{:04d}.{:02d}'.format((counterDL),(counterDL)))\n",
    "    if line:\n",
    "        #window['-OUTPUTXL-'].update('{:04d}.{:02d}'.format((counterXL//200),(abs(counterXL//2)%100)))\n",
    "        try:\n",
    "            string = line.decode()  # convert the byte string to a unicode string\n",
    "            if string[1] == 'L':\n",
    "                if string[0] == 'X':\n",
    "                    counterXL += int(string[2:]) # \n",
    "                elif string[0] == 'Y':\n",
    "                    counterYL += int(string[2:])\n",
    "                elif string[0] == 'Z':\n",
    "                    counterZL += int(string[2:])\n",
    "                elif string[0] == 'D':\n",
    "                    counterDL += int(string[2:])\n",
    "            if string[1] == 'R':\n",
    "                if string[0] == 'X':\n",
    "                    counterXR += int(string[2:]) # \n",
    "                elif string[0] == 'Y':\n",
    "                    counterYR += int(string[2:])\n",
    "                elif string[0] == 'Z':\n",
    "                    counterZR += int(string[2:])\n",
    "                elif string[0] == 'D':\n",
    "                    counterDR += int(string[2:])\n",
    "        except:\n",
    "            counterXL=0\n",
    "            counterYL=0\n",
    "            counterZL=0\n",
    "            counterDL=0\n",
    "            counterXR=0\n",
    "            counterYR=0\n",
    "            counterZR=0\n",
    "            counterDR=0\n",
    "                \n",
    "window.close()\n",
    "ser.close()"
   ]
  },
  {
   "cell_type": "code",
   "execution_count": 14,
   "metadata": {},
   "outputs": [],
   "source": [
    "line = ser.readline()\n",
    "string = line.decode()"
   ]
  },
  {
   "cell_type": "code",
   "execution_count": 18,
   "metadata": {},
   "outputs": [
    {
     "data": {
      "text/plain": [
       "'YR1\\r\\n'"
      ]
     },
     "execution_count": 18,
     "metadata": {},
     "output_type": "execute_result"
    }
   ],
   "source": [
    "string"
   ]
  },
  {
   "cell_type": "code",
   "execution_count": 4,
   "metadata": {},
   "outputs": [],
   "source": [
    "ser = serial.Serial('COM7','9600',timeout=1)"
   ]
  },
  {
   "cell_type": "code",
   "execution_count": 16,
   "metadata": {},
   "outputs": [],
   "source": [
    "ser.close()"
   ]
  },
  {
   "cell_type": "code",
   "execution_count": 19,
   "metadata": {},
   "outputs": [
    {
     "data": {
      "text/plain": [
       "'R'"
      ]
     },
     "execution_count": 19,
     "metadata": {},
     "output_type": "execute_result"
    }
   ],
   "source": [
    "string[1]"
   ]
  },
  {
   "cell_type": "code",
   "execution_count": 22,
   "metadata": {},
   "outputs": [],
   "source": [
    "if string[1] == 'L':\n",
    "    print('h')\n",
    "    "
   ]
  },
  {
   "cell_type": "code",
   "execution_count": 3,
   "metadata": {},
   "outputs": [
    {
     "name": "stdout",
     "output_type": "stream",
     "text": [
      "['ttyACM1', 'ttyACM0']\n"
     ]
    }
   ],
   "source": []
  },
  {
   "cell_type": "code",
   "execution_count": 13,
   "metadata": {},
   "outputs": [],
   "source": []
  }
 ],
 "metadata": {
  "kernelspec": {
   "display_name": "Python 3",
   "language": "python",
   "name": "python3"
  },
  "language_info": {
   "codemirror_mode": {
    "name": "ipython",
    "version": 3
   },
   "file_extension": ".py",
   "mimetype": "text/x-python",
   "name": "python",
   "nbconvert_exporter": "python",
   "pygments_lexer": "ipython3",
   "version": "3.8.5"
  }
 },
 "nbformat": 4,
 "nbformat_minor": 4
}
