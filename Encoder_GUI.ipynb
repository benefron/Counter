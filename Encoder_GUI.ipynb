{
 "cells": [
  {
   "cell_type": "code",
   "execution_count": 3,
   "metadata": {},
   "outputs": [],
   "source": [
    "import PySimpleGUI as sg"
   ]
  },
  {
   "cell_type": "code",
   "execution_count": 4,
   "metadata": {},
   "outputs": [],
   "source": [
    "import serial\n",
    "import time\n",
    "import math\n",
    "import serial.tools.list_ports"
   ]
  },
  {
   "cell_type": "code",
   "execution_count": 7,
   "metadata": {},
   "outputs": [],
   "source": []
  },
  {
   "cell_type": "code",
   "execution_count": 8,
   "metadata": {},
   "outputs": [
    {
     "data": {
      "text/plain": [
       "'ttyACM0'"
      ]
     },
     "execution_count": 8,
     "metadata": {},
     "output_type": "execute_result"
    }
   ],
   "source": []
  },
  {
   "cell_type": "code",
   "execution_count": 20,
   "metadata": {},
   "outputs": [],
   "source": [
    "import PySimpleGUI as sg\n",
    "\n",
    "\n",
    "sg.theme('DarkBrown1')\n",
    "\n",
    "ports = serial.tools.list_ports.comports()\n",
    "portList = [port.name for port in ports]\n",
    "layoutPop = [  [sg.Text('Please choose the Arduino COM port', size=(20, 2), justification='center')],\n",
    "            [sg.InputCombo(portList,key= '-PORT-',enable_events=True)]]\n",
    "\n",
    "windowPop = sg.Window('COM port',layoutPop)\n",
    "\n",
    "while True:                  # the event loop\n",
    "    event, values = windowPop.read()\n",
    "    if event == sg.WIN_CLOSED:\n",
    "        break\n",
    "    if values['-PORT-']:    # if something is highlighted in the list\n",
    "        port_name = values['-PORT-']\n",
    "        break\n",
    "windowPop.close()\n",
    "\n",
    "# linux version\n",
    "ser = serial.Serial(f\"/dev/{port_name}\",'9600',timeout=1)\n",
    "# Windows version\n",
    "# ser = serial.Serial(port_name,'9600',timeout=1)\n",
    "sg.theme('DarkBrown1')\n",
    "\n",
    "\n",
    "layout = [  [sg.Text('x', size=(20, 2), justification='center'),sg.T(' ' * 10),sg.Text('y', size = (20,2), justification='center')],\n",
    "            [sg.Text(size=(10, 2), font=('Helvetica', 20), justification='center', key='-OUTPUTX-'),sg.Button('zeroX'), sg.T(' ' *5),sg.Text(size=(10, 2), font=('Helvetica', 20), justification='center', key='-OUTPUTY-'),sg.Button('zeroY')],\n",
    "            [sg.Text(size=(10, 2), font=('Helvetica', 20), justification='center', key='-OUTPUTZ-'),sg.Button('zeroZ'), sg.T(' ' *5),sg.Text(size=(10, 2), font=('Helvetica', 20), justification='center', key='-OUTPUTD-'),sg.Button('zeroDepth')],\n",
    "          [sg.T(' ' * 5),sg.Quit(),sg.Button('countX')],\n",
    "         [sg.Button('Zero All')]]\n",
    "\n",
    "window = sg.Window('Stopwatch Timer', layout)\n",
    "\n",
    "timer_running, counter = True, 0\n",
    "counterX=0\n",
    "counterY = 0\n",
    "counterZ = 0\n",
    "counterD = 0\n",
    "\n",
    "\n",
    "while True:                                 # Event Loop\n",
    "    event, values = window.read(timeout=0.3) # Please try and use as high of a timeout value as you can\n",
    "    window['-OUTPUTX-'].update('{:04d}.{:02d}'.format((counterX)//200,abs((counterX)//2)%100))\n",
    "    window['-OUTPUTY-'].update('{:05d}'.format((counterY)))\n",
    "    window['-OUTPUTZ-'].update('{:05d}'.format((counterZ)))\n",
    "    window['-OUTPUTD-'].update('{:05d}'.format((counterD)))\n",
    "    line = ser.readline()\n",
    "\n",
    "    if event in (sg.WIN_CLOSED, 'Quit'):             # if user closed the window using X or clicked Quit button\n",
    "        ser.close()\n",
    "        break\n",
    "    elif event == 'Zero All':\n",
    "        counterX=0\n",
    "        counterY = 0\n",
    "        counterZ = 0\n",
    "        counterD = 0\n",
    "        window['-OUTPUTX-'].update('{:04d}.{:02d}'.format((counterX),(counterX)))\n",
    "    if line:\n",
    "        window['-OUTPUTX-'].update('{:04d}.{:02d}'.format((counterX//200),(abs(counterX//2)%100)))\n",
    "        try:\n",
    "            string = line.decode()  # convert the byte string to a unicode string\n",
    "            counterX += int(string) # \n",
    "        except:\n",
    "            counterX=0\n",
    "                \n",
    "window.close()\n",
    "ser.close()"
   ]
  },
  {
   "cell_type": "code",
   "execution_count": 88,
   "metadata": {},
   "outputs": [],
   "source": []
  },
  {
   "cell_type": "code",
   "execution_count": 49,
   "metadata": {},
   "outputs": [
    {
     "name": "stdout",
     "output_type": "stream",
     "text": [
      "b'1174\\r\\n'\n",
      "b'1175\\r\\n'\n",
      "b'1176\\r\\n'\n",
      "b'1177\\r\\n'\n",
      "b'1178\\r\\n'\n",
      "b'1179\\r\\n'\n",
      "b'1180\\r\\n'\n",
      "b'1181\\r\\n'\n",
      "b'1182\\r\\n'\n",
      "b'1183\\r\\n'\n",
      "b'1184\\r\\n'\n",
      "b'1185\\r\\n'\n",
      "b'1186\\r\\n'\n",
      "b'1187\\r\\n'\n",
      "b'1188\\r\\n'\n",
      "b'1189\\r\\n'\n",
      "b'1190\\r\\n'\n",
      "b'1191\\r\\n'\n",
      "b'1193\\r\\n'\n",
      "b'1192\\r\\n'\n",
      "b'1193\\r\\n'\n",
      "b'1195\\r\\n'\n",
      "b'1196\\r\\n'\n",
      "b'1197\\r\\n'\n",
      "b'1199\\r\\n'\n",
      "b'1200\\r\\n'\n",
      "b'1201\\r\\n'\n",
      "b'1202\\r\\n'\n",
      "b'1200\\r\\n'\n",
      "b'1199\\r\\n'\n",
      "b'1200\\r\\n'\n",
      "b'1201\\r\\n'\n",
      "b'1203\\r\\n'\n",
      "b'1205\\r\\n'\n",
      "b'1204\\r\\n'\n",
      "b'1202\\r\\n'\n",
      "b'1203\\r\\n'\n",
      "b'1205\\r\\n'\n",
      "b'1207\\r\\n'\n",
      "b'1209\\r\\n'\n",
      "b'1210\\r\\n'\n",
      "b'1211\\r\\n'\n",
      "b'1212\\r\\n'\n",
      "b'1213\\r\\n'\n",
      "b'1212\\r\\n'\n",
      "b'1210\\r\\n'\n",
      "b'1209\\r\\n'\n",
      "b'1210\\r\\n'\n",
      "b'1208\\r\\n'\n",
      "b'1206\\r\\n'\n"
     ]
    }
   ],
   "source": []
  },
  {
   "cell_type": "code",
   "execution_count": 14,
   "metadata": {},
   "outputs": [
    {
     "name": "stdout",
     "output_type": "stream",
     "text": [
      "['ttyACM1', 'ttyACM0']\n"
     ]
    }
   ],
   "source": []
  },
  {
   "cell_type": "code",
   "execution_count": 39,
   "metadata": {},
   "outputs": [],
   "source": []
  },
  {
   "cell_type": "code",
   "execution_count": 24,
   "metadata": {},
   "outputs": [],
   "source": []
  },
  {
   "cell_type": "code",
   "execution_count": 33,
   "metadata": {},
   "outputs": [
    {
     "data": {
      "text/plain": [
       "'7583435313135101E031'"
      ]
     },
     "execution_count": 33,
     "metadata": {},
     "output_type": "execute_result"
    }
   ],
   "source": []
  },
  {
   "cell_type": "code",
   "execution_count": 3,
   "metadata": {},
   "outputs": [
    {
     "name": "stdout",
     "output_type": "stream",
     "text": [
      "['ttyACM1', 'ttyACM0']\n"
     ]
    }
   ],
   "source": []
  },
  {
   "cell_type": "code",
   "execution_count": 13,
   "metadata": {},
   "outputs": [],
   "source": []
  }
 ],
 "metadata": {
  "kernelspec": {
   "display_name": "Python 3",
   "language": "python",
   "name": "python3"
  },
  "language_info": {
   "codemirror_mode": {
    "name": "ipython",
    "version": 3
   },
   "file_extension": ".py",
   "mimetype": "text/x-python",
   "name": "python",
   "nbconvert_exporter": "python",
   "pygments_lexer": "ipython3",
   "version": "3.8.3"
  }
 },
 "nbformat": 4,
 "nbformat_minor": 4
}
