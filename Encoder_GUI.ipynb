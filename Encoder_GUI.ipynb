{
 "cells": [
  {
   "cell_type": "code",
   "execution_count": 3,
   "metadata": {},
   "outputs": [],
   "source": [
    "import PySimpleGUI as sg"
   ]
  },
  {
   "cell_type": "code",
   "execution_count": 4,
   "metadata": {},
   "outputs": [],
   "source": [
    "import serial\n",
    "import time\n",
    "import math\n",
    "import serial.tools.list_ports"
   ]
  },
  {
   "cell_type": "code",
   "execution_count": 7,
   "metadata": {},
   "outputs": [],
   "source": []
  },
  {
   "cell_type": "code",
   "execution_count": 8,
   "metadata": {},
   "outputs": [
    {
     "data": {
      "text/plain": [
       "'ttyACM0'"
      ]
     },
     "execution_count": 8,
     "metadata": {},
     "output_type": "execute_result"
    }
   ],
   "source": []
  },
  {
   "cell_type": "code",
   "execution_count": 62,
   "metadata": {},
   "outputs": [],
   "source": [
    "import PySimpleGUI as sg\n",
    "\n",
    "\n",
    "sg.theme('Dark Green 7')\n",
    "\n",
    "ports = serial.tools.list_ports.comports()\n",
    "portList = [port.name for port in ports]\n",
    "layoutPop = [  [sg.Text('Please choose the Arduino COM port', size=(20, 2), justification='center',font=('Ariel',15))],\n",
    "            [sg.T(' ' * 5),sg.InputCombo(portList,key= '-PORT-',enable_events=True,size=(10, 4),font=('Ariel',15))]]\n",
    "\n",
    "windowPop = sg.Window('COM port',layoutPop,location=(800,500))\n",
    "\n",
    "while True:                  # the event loop\n",
    "    event, values = windowPop.read()\n",
    "    if event == sg.WIN_CLOSED:\n",
    "        break\n",
    "    if values['-PORT-']:    # if something is highlighted in the list\n",
    "        port_name = values['-PORT-']\n",
    "        break\n",
    "windowPop.close()\n",
    "\n",
    "\n",
    "# linux version\n",
    "ser = serial.Serial(f\"/dev/{port_name}\",'9600',timeout=1)\n",
    "# Windows version\n",
    "# ser = serial.Serial(port_name,'9600',timeout=1)\n",
    "#sg.theme('Dark Green 7')\n",
    "\n",
    "\n",
    "layout = [  \n",
    "            [sg.Text(size=(10, 1), font=('Helvetica', 20), justification='center', key='-OUTPUTX-',border_width=5,relief='groove'),\n",
    "             sg.Button('zeroX'), sg.T(' ' *5),sg.Text(size=(10, 1), font=('Helvetica', 20), justification='center', \n",
    "                                                      key='-OUTPUTY-',border_width=5,relief='groove'),sg.Button('zeroY')],\n",
    "            \n",
    "            [sg.Text(size=(10, 1), font=('Helvetica', 20), justification='center', key='-OUTPUTZ-',border_width=5,relief='groove'),sg.Button('zeroZ'), sg.T(' ' *5),\n",
    "             sg.Text(size=(10, 1), font=('Helvetica', 20), justification='center', key='-OUTPUTD-',border_width=5,relief='groove'),sg.Button('zeroDepth')],\n",
    "          [sg.Button('Zero All',)],\n",
    "            [sg.Quit(),sg.Button('Heart Monitor')]]\n",
    "\n",
    "window = sg.Window('Monitor', layout,location=(600,500))\n",
    "\n",
    "\n",
    "counterX=0\n",
    "counterY = 0\n",
    "counterZ = 0\n",
    "counterD = 0\n",
    "\n",
    "\n",
    "while True:                                 # Event Loop\n",
    "    event, values = window.read(timeout=2) # Please try and use as high of a timeout value as you can\n",
    "    window['-OUTPUTX-'].update('{:04d}.{:02d}'.format((counterX)//200,abs((counterX)//2)%100))\n",
    "    window['-OUTPUTY-'].update('{:04d}.{:02d}'.format((counterY)//200,abs((counterY)//2)%100))\n",
    "    window['-OUTPUTZ-'].update('{:04d}.{:02d}'.format((counterZ)//200,abs((counterZ)//2)%100))\n",
    "    window['-OUTPUTD-'].update('{:04d}.{:02d}'.format((counterD)//200,abs((counterD)//2)%100))\n",
    "    line = ser.readline()\n",
    "\n",
    "    if event in (sg.WIN_CLOSED, 'Quit'):             # if user closed the window using X or clicked Quit button\n",
    "        \n",
    "        break\n",
    "    elif event == 'Zero All':\n",
    "        counterX=0\n",
    "        counterY = 0\n",
    "        counterZ = 0\n",
    "        counterD = 0\n",
    "        #window['-OUTPUTX-'].update('{:04d}.{:02d}'.format((counterX),(counterX)))\n",
    "        #window['-OUTPUTY-'].update('{:04d}.{:02d}'.format((counterY),(counterY)))\n",
    "        #window['-OUTPUTZ-'].update('{:04d}.{:02d}'.format((counterZ),(counterZ)))\n",
    "        #window['-OUTPUTD-'].update('{:04d}.{:02d}'.format((counterD),(counterD)))\n",
    "    elif event == 'zeroX':\n",
    "        counterX=0\n",
    "        #window['-OUTPUTX-'].update('{:04d}.{:02d}'.format((counterX),(counterX)))\n",
    "    elif event == 'zeroY':\n",
    "        counterY=0\n",
    "        #window['-OUTPUTY-'].update('{:04d}.{:02d}'.format((counterY),(counterY)))\n",
    "    elif event == 'zeroZ':\n",
    "        counterZ=0\n",
    "        #window['-OUTPUTZ-'].update('{:04d}.{:02d}'.format((counterZ),(counterZ)))\n",
    "    elif event == 'zeroDepth':\n",
    "        counterD=0\n",
    "        #window['-OUTPUTD-'].update('{:04d}.{:02d}'.format((counterD),(counterD)))\n",
    "    if line:\n",
    "        #window['-OUTPUTX-'].update('{:04d}.{:02d}'.format((counterX//200),(abs(counterX//2)%100)))\n",
    "        try:\n",
    "            string = line.decode()  # convert the byte string to a unicode string\n",
    "            if string[0] == 'X':\n",
    "                counterX += int(string[1:]) # \n",
    "            elif string[0] == 'Y':\n",
    "                counterY += int(string[1:])\n",
    "            elif string[0] == 'Z':\n",
    "                counterZ += int(string[1:])\n",
    "            elif string[0] == 'D':\n",
    "                counterD += int(string[1:])\n",
    "        except:\n",
    "            counterX=0\n",
    "            counterY=0\n",
    "            counterZ=0\n",
    "            counterD=0\n",
    "                \n",
    "window.close()\n",
    "ser.close()"
   ]
  },
  {
   "cell_type": "code",
   "execution_count": 31,
   "metadata": {},
   "outputs": [],
   "source": [
    "ser = serial.Serial(f\"/dev/{port_name}\",'9600',timeout=1)\n"
   ]
  },
  {
   "cell_type": "code",
   "execution_count": 48,
   "metadata": {},
   "outputs": [],
   "source": [
    "line = ser.readline()\n",
    "string = line.decode()"
   ]
  },
  {
   "cell_type": "code",
   "execution_count": 53,
   "metadata": {},
   "outputs": [
    {
     "data": {
      "text/plain": [
       "'1\\r\\n'"
      ]
     },
     "execution_count": 53,
     "metadata": {},
     "output_type": "execute_result"
    }
   ],
   "source": []
  },
  {
   "cell_type": "code",
   "execution_count": 30,
   "metadata": {},
   "outputs": [],
   "source": [
    "ser.close()"
   ]
  },
  {
   "cell_type": "code",
   "execution_count": 24,
   "metadata": {},
   "outputs": [],
   "source": []
  },
  {
   "cell_type": "code",
   "execution_count": 33,
   "metadata": {},
   "outputs": [
    {
     "data": {
      "text/plain": [
       "'7583435313135101E031'"
      ]
     },
     "execution_count": 33,
     "metadata": {},
     "output_type": "execute_result"
    }
   ],
   "source": []
  },
  {
   "cell_type": "code",
   "execution_count": 3,
   "metadata": {},
   "outputs": [
    {
     "name": "stdout",
     "output_type": "stream",
     "text": [
      "['ttyACM1', 'ttyACM0']\n"
     ]
    }
   ],
   "source": []
  },
  {
   "cell_type": "code",
   "execution_count": 13,
   "metadata": {},
   "outputs": [],
   "source": []
  }
 ],
 "metadata": {
  "kernelspec": {
   "display_name": "Python 3",
   "language": "python",
   "name": "python3"
  },
  "language_info": {
   "codemirror_mode": {
    "name": "ipython",
    "version": 3
   },
   "file_extension": ".py",
   "mimetype": "text/x-python",
   "name": "python",
   "nbconvert_exporter": "python",
   "pygments_lexer": "ipython3",
   "version": "3.8.3"
  }
 },
 "nbformat": 4,
 "nbformat_minor": 4
}
